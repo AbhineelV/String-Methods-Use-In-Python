{
 "cells": [
  {
   "cell_type": "markdown",
   "id": "d75e7bb7-fbce-46cc-8d65-085eff32e13e",
   "metadata": {},
   "source": [
    "# String Capitalized Method converts first letter in uppercase, syntax = capitalize()"
   ]
  },
  {
   "cell_type": "code",
   "execution_count": 25,
   "id": "edcd3209-aa62-40ad-8cbb-e717eb3ef709",
   "metadata": {},
   "outputs": [
    {
     "name": "stdout",
     "output_type": "stream",
     "text": [
      "Welcome to python\n"
     ]
    }
   ],
   "source": [
    "str1 = \"welcome to python\"\n",
    "sentence = str1.capitalize()\n",
    "print(sentence)"
   ]
  },
  {
   "cell_type": "markdown",
   "id": "ddf58ce0-516c-4c52-bd30-752b65fc0c1c",
   "metadata": {},
   "source": [
    "# String Casefold Method converts first letter in lowercase, syntax = casefold()"
   ]
  },
  {
   "cell_type": "code",
   "execution_count": 27,
   "id": "79ee45b3-3fab-4298-9295-025e31f234cf",
   "metadata": {},
   "outputs": [
    {
     "name": "stdout",
     "output_type": "stream",
     "text": [
      "data analyst\n"
     ]
    }
   ],
   "source": [
    "str2 = \"Data Analyst\"\n",
    "sentence = str2.casefold()\n",
    "print(sentence)"
   ]
  },
  {
   "cell_type": "markdown",
   "id": "0c5d3319-8dee-4045-937f-4a775172e119",
   "metadata": {},
   "source": [
    "# String Center Method position of sentence, syntax = center(20) where 20 is length of sentence"
   ]
  },
  {
   "cell_type": "code",
   "execution_count": 63,
   "id": "b2ccc558-5fe0-4cee-b469-79b88c314edf",
   "metadata": {},
   "outputs": [
    {
     "name": "stdout",
     "output_type": "stream",
     "text": [
      "                 APPLE                  \n"
     ]
    }
   ],
   "source": [
    "str3 = \"APPLE\"\n",
    "sentence = str3.center(40)\n",
    "print(sentence)"
   ]
  },
  {
   "cell_type": "markdown",
   "id": "55a4d624-e668-4f60-a53b-f2f7074b58fa",
   "metadata": {},
   "source": [
    "# String Count Method, suntax = count()"
   ]
  },
  {
   "cell_type": "code",
   "execution_count": 71,
   "id": "228210e4-bcc9-4bd3-a4bb-afcb7201f893",
   "metadata": {},
   "outputs": [
    {
     "name": "stdout",
     "output_type": "stream",
     "text": [
      "s = 3\n"
     ]
    }
   ],
   "source": [
    "str4 = \"Buggati is a fastest Car in World\"\n",
    "sentence = str4.count(\"s\")\n",
    "print(f's = {sentence}')"
   ]
  },
  {
   "cell_type": "markdown",
   "id": "aa2eec33-febc-4cf4-8d52-2fa791d4c37c",
   "metadata": {},
   "source": [
    "# String End With specific symbol that returns True or False after checking symbol "
   ]
  },
  {
   "cell_type": "code",
   "execution_count": 95,
   "id": "bab1744b-ff8e-4228-9840-b6d885e69110",
   "metadata": {},
   "outputs": [
    {
     "name": "stdout",
     "output_type": "stream",
     "text": [
      ". =True\n"
     ]
    }
   ],
   "source": [
    "text = \"Buggati is a fastest Car in World.\"\n",
    "sentence = text.endswith(\".\")\n",
    "print(f'. ={sentence}') "
   ]
  },
  {
   "cell_type": "code",
   "execution_count": 99,
   "id": "be4184fb-da20-4ddc-a282-4cf3ceccbaf5",
   "metadata": {},
   "outputs": [
    {
     "name": "stdout",
     "output_type": "stream",
     "text": [
      ", = False\n"
     ]
    }
   ],
   "source": [
    "text = \"Buggati is a fastest Car in World.\"\n",
    "sentence = text.endswith(\",\")\n",
    "print(f', = {sentence}')"
   ]
  },
  {
   "cell_type": "markdown",
   "id": "cd0e58d9-e3d7-47ea-afdc-236e3030057a",
   "metadata": {},
   "source": [
    "# String Start Method is use to check Start is specified value, syntax = startwith()"
   ]
  },
  {
   "cell_type": "code",
   "execution_count": 81,
   "id": "6667ac5d-34ea-478e-a498-7071985e6c39",
   "metadata": {},
   "outputs": [
    {
     "name": "stdout",
     "output_type": "stream",
     "text": [
      "text =True\n"
     ]
    }
   ],
   "source": [
    "text = \"Buggati is a fastest Car in World.\"\n",
    "sentence = text.startswith(\"Buggati\")\n",
    "print(f'text ={sentence}') "
   ]
  },
  {
   "cell_type": "markdown",
   "id": "cfbd23f1-2265-4d0c-ab9c-8bd220c55a68",
   "metadata": {},
   "source": [
    "# Sting Find Method it will return the Index Value of Variable, syntax = find()"
   ]
  },
  {
   "cell_type": "code",
   "execution_count": 18,
   "id": "189e3bf6-c1d3-490b-8d7b-a33a0450d6b2",
   "metadata": {},
   "outputs": [
    {
     "name": "stdout",
     "output_type": "stream",
     "text": [
      "performance=15\n"
     ]
    }
   ],
   "source": [
    "var1= \"This is a high performance Laptop\"\n",
    "sentence = var1.find(\"performance\")\n",
    "print(f'performance={sentence}')"
   ]
  },
  {
   "cell_type": "markdown",
   "id": "42f08587-62b6-46f4-b585-f02483f678e7",
   "metadata": {},
   "source": [
    "# Sting Index Method it will return the Index Value of Variable similar to find method, syntax = index()"
   ]
  },
  {
   "cell_type": "code",
   "execution_count": 21,
   "id": "4c060cc1-58a0-41d3-b1bb-0cadeb61f6c9",
   "metadata": {},
   "outputs": [
    {
     "name": "stdout",
     "output_type": "stream",
     "text": [
      "Laptop=27\n"
     ]
    }
   ],
   "source": [
    "var1= \"This is a high performance Laptop\"\n",
    "sentence = var1.index(\"Laptop\")\n",
    "print(f'Laptop={sentence}')"
   ]
  },
  {
   "cell_type": "markdown",
   "id": "628a6ded-19da-4db0-b281-0805f3bad278",
   "metadata": {},
   "source": [
    "# String ISALPHA Method return True if sentence contain alphabhets and False if their is any numeric or space is given, syntax = isalpha()"
   ]
  },
  {
   "cell_type": "code",
   "execution_count": 30,
   "id": "15c9e566-6fd3-448b-99f9-ad3f66e5af86",
   "metadata": {},
   "outputs": [
    {
     "name": "stdout",
     "output_type": "stream",
     "text": [
      "True\n"
     ]
    }
   ],
   "source": [
    "txt = \"Lifeisallabouthappiness\"\n",
    "sentence = txt.isalpha()\n",
    "print(sentence)"
   ]
  },
  {
   "cell_type": "code",
   "execution_count": 32,
   "id": "b974cc58-fcce-4da3-a3a4-8408c8259f05",
   "metadata": {},
   "outputs": [
    {
     "name": "stdout",
     "output_type": "stream",
     "text": [
      "False\n"
     ]
    }
   ],
   "source": [
    "txt = \"Life is all about happiness\"\n",
    "sentence = txt.isalpha()\n",
    "print(sentence)"
   ]
  },
  {
   "cell_type": "markdown",
   "id": "4c60bddb-ef8d-4b33-92e6-bf6b33a9bec1",
   "metadata": {},
   "source": [
    "# String Space Method it show the space is given or not in sentence, syntax = isspace()"
   ]
  },
  {
   "cell_type": "code",
   "execution_count": 43,
   "id": "fc02829f-17b9-4cb0-b231-dc643d637aa3",
   "metadata": {},
   "outputs": [
    {
     "name": "stdout",
     "output_type": "stream",
     "text": [
      "word = True\n"
     ]
    }
   ],
   "source": [
    "word = \"  \"\n",
    "sentence = word.isspace()\n",
    "print(f'word = {sentence}')"
   ]
  },
  {
   "cell_type": "code",
   "execution_count": 45,
   "id": "927d07e4-0d13-40e3-95fe-84fb9c90f9d3",
   "metadata": {},
   "outputs": [
    {
     "name": "stdout",
     "output_type": "stream",
     "text": [
      "word = False\n"
     ]
    }
   ],
   "source": [
    "word = \"Jarvis\"\n",
    "sentence = word.isspace()\n",
    "print(f'word = {sentence}')"
   ]
  },
  {
   "cell_type": "markdown",
   "id": "cef7d74b-e60d-41fe-ae94-cf9c84bf9351",
   "metadata": {},
   "source": [
    "# String Upper Method to check all the character are in uppercase, suntax = isuppper()"
   ]
  },
  {
   "cell_type": "code",
   "execution_count": 48,
   "id": "7c8bc9f8-16d2-40d1-8660-b26e5f7a1d39",
   "metadata": {},
   "outputs": [
    {
     "name": "stdout",
     "output_type": "stream",
     "text": [
      "txt = True\n"
     ]
    }
   ],
   "source": [
    "txt= \"JARVIS IS AN ARTIFICIAL INTELLIGENCE\"\n",
    "sentence = txt.isupper()\n",
    "print (f'txt = {sentence}')"
   ]
  },
  {
   "cell_type": "code",
   "execution_count": 50,
   "id": "804ca43a-71cc-4051-a65d-ac29bfabec0e",
   "metadata": {},
   "outputs": [
    {
     "name": "stdout",
     "output_type": "stream",
     "text": [
      "txt = False\n"
     ]
    }
   ],
   "source": [
    "txt= \"this is a car\"\n",
    "sentence = txt.isupper()\n",
    "print (f'txt = {sentence}')"
   ]
  },
  {
   "cell_type": "markdown",
   "id": "c3eede51-03ab-4ad7-adc5-053bfb62cb57",
   "metadata": {},
   "source": [
    "# String Lower method it will convert text in lower case format, syntax = lower()"
   ]
  },
  {
   "cell_type": "code",
   "execution_count": 53,
   "id": "1a934ea3-9c49-49d4-b736-ee8216d26f15",
   "metadata": {},
   "outputs": [
    {
     "name": "stdout",
     "output_type": "stream",
     "text": [
      " str1 = this is an python task\n"
     ]
    }
   ],
   "source": [
    "str1 = \"This Is AN Python Task\"\n",
    "sentence = str1.lower()\n",
    "print(f' str1 = {sentence}')"
   ]
  },
  {
   "cell_type": "markdown",
   "id": "db3bb45d-fa3a-40d2-b328-529011f57a8e",
   "metadata": {},
   "source": [
    "# String Join Method it will add symbol that we use to join between variable, syntax = join()"
   ]
  },
  {
   "cell_type": "code",
   "execution_count": 61,
   "id": "6a7439cd-8f6d-4bae-a392-aa6e8b9c01ee",
   "metadata": {},
   "outputs": [
    {
     "name": "stdout",
     "output_type": "stream",
     "text": [
      "apple=Iphone$Mac$Airpods$IPad\n"
     ]
    }
   ],
   "source": [
    "apple = ( \"Iphone\", \"Mac\", \"Airpods\", \"IPad\")\n",
    "product = \"$\".join(apple)\n",
    "print(f'apple={product}')"
   ]
  },
  {
   "cell_type": "markdown",
   "id": "a19955ba-d914-4130-bb25-a3b2ff2c2efb",
   "metadata": {},
   "source": [
    "# String Partition Method it will split sentence in parts , syntax = partition()"
   ]
  },
  {
   "cell_type": "markdown",
   "id": "64272ab0-bcf5-4e63-8291-e873f4cd9b7a",
   "metadata": {},
   "source": [
    "txt = \"I could eat icecream daily\"\n",
    "x = txt.partition(\"icecream\")\n",
    "print(x)"
   ]
  },
  {
   "cell_type": "markdown",
   "id": "4f44ca79-8294-4fd2-9910-808a0ba29f50",
   "metadata": {},
   "source": [
    "# String Replace Method it will replace the word or value , syntax = replace(new_value, replace_value)"
   ]
  },
  {
   "cell_type": "code",
   "execution_count": 69,
   "id": "872358dc-e0f7-42fd-9d39-c4e09f1c3e9a",
   "metadata": {},
   "outputs": [
    {
     "name": "stdout",
     "output_type": "stream",
     "text": [
      "I could eat chocolate daily\n"
     ]
    }
   ],
   "source": [
    "txt = \"I could eat icecream daily\"\n",
    "x = txt.replace(\"icecream\", \"chocolate\")\n",
    "print(x)"
   ]
  },
  {
   "cell_type": "markdown",
   "id": "f72792c0-c5c9-4e23-8221-643121c38008",
   "metadata": {},
   "source": [
    "# String ZFIll Method is use to add how many Zero(0) before the sentence, syntax = zfill()"
   ]
  },
  {
   "cell_type": "code",
   "execution_count": 86,
   "id": "e9dec411-d6b4-465a-b29b-aea3b8eced3a",
   "metadata": {},
   "outputs": [
    {
     "name": "stdout",
     "output_type": "stream",
     "text": [
      "val1=0000000050\n"
     ]
    }
   ],
   "source": [
    "val1 = \"50\"\n",
    "output = val1.zfill(10)\n",
    "print(f'val1={output}')"
   ]
  },
  {
   "cell_type": "markdown",
   "id": "f0709e54-2098-45cb-9fdb-e1e1a02510cf",
   "metadata": {},
   "source": [
    "# String Expand Tab use for spacing beteewn each word, syntax expand() "
   ]
  },
  {
   "cell_type": "code",
   "execution_count": 88,
   "id": "6039412c-4181-45a7-bb7c-085c25bfd1f3",
   "metadata": {},
   "outputs": [
    {
     "name": "stdout",
     "output_type": "stream",
     "text": [
      "Hello\n"
     ]
    }
   ],
   "source": [
    "var1 = \"Hello\"\n",
    "sentence = var1.expandtabs(5)\n",
    "print(sentence)"
   ]
  },
  {
   "cell_type": "markdown",
   "id": "05b9440c-3997-4c8c-8c53-c143856921c6",
   "metadata": {},
   "source": [
    "# String Encode Method use for encrption of data, syntax = encode()"
   ]
  },
  {
   "cell_type": "code",
   "execution_count": 91,
   "id": "9ee97c60-ae0d-4e6b-81f7-5ba58f29c83c",
   "metadata": {},
   "outputs": [
    {
     "name": "stdout",
     "output_type": "stream",
     "text": [
      "b' Meet me Airport'\n"
     ]
    }
   ],
   "source": [
    "data = \" Meet me Airport\"\n",
    "source = data.encode()\n",
    "print(source)"
   ]
  }
 ],
 "metadata": {
  "kernelspec": {
   "display_name": "Python 3 (ipykernel)",
   "language": "python",
   "name": "python3"
  },
  "language_info": {
   "codemirror_mode": {
    "name": "ipython",
    "version": 3
   },
   "file_extension": ".py",
   "mimetype": "text/x-python",
   "name": "python",
   "nbconvert_exporter": "python",
   "pygments_lexer": "ipython3",
   "version": "3.11.7"
  }
 },
 "nbformat": 4,
 "nbformat_minor": 5
}
